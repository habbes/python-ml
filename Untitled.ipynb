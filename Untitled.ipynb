{
 "cells": [
  {
   "cell_type": "code",
   "execution_count": 3,
   "metadata": {
    "collapsed": true
   },
   "outputs": [],
   "source": [
    "def activation(z):\n",
    "    return 1 if z > 0 else -1\n",
    "\n",
    "\n",
    "def combine_weights(weights, features, theta):\n",
    "    z = sum((weights[i] * features[i]) for i in len(weights))\n",
    "    return z - theta\n",
    "\n",
    "def update_weights(rate, weights, features, expected, actual):\n",
    "    new_weights = []\n",
    "    for (i, w) in enumerate(weights):\n",
    "        new_w = rate * (expected - actual) * features[i]\n",
    "        new_weights.append(new_w)\n",
    "    return new_weights\n",
    "\n",
    "\n",
    "def fit(samples, labels, rate, theta):\n",
    "    weights = (0 for i in samples[0])\n",
    "    for i in len(samples):\n",
    "        features, label = samples[i], labels[i]\n",
    "        z = combine_weights(weights, features, theta)\n",
    "        output = activation(z)\n",
    "        weights = update_weights(rate, weights, features, label, output)\n",
    "    return weights\n",
    "\n",
    "def predict(features, weights, theta):\n",
    "    return activation(combine_weights(weights, features, theta))\n",
    "\n",
    "    "
   ]
  },
  {
   "cell_type": "code",
   "execution_count": null,
   "metadata": {
    "collapsed": true
   },
   "outputs": [],
   "source": []
  }
 ],
 "metadata": {
  "kernelspec": {
   "display_name": "Python 3",
   "language": "python",
   "name": "python3"
  },
  "language_info": {
   "codemirror_mode": {
    "name": "ipython",
    "version": 3
   },
   "file_extension": ".py",
   "mimetype": "text/x-python",
   "name": "python",
   "nbconvert_exporter": "python",
   "pygments_lexer": "ipython3",
   "version": "3.4.3"
  }
 },
 "nbformat": 4,
 "nbformat_minor": 0
}
